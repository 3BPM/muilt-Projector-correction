{
 "cells": [
  {
   "cell_type": "code",
   "execution_count": 9,
   "metadata": {},
   "outputs": [
    {
     "name": "stdout",
     "output_type": "stream",
     "text": [
      "500 300\n"
     ]
    }
   ],
   "source": [
    "import cv2\n",
    "import numpy as np\n",
    "import matplotlib.pyplot as plt\n",
    "chesspath=r\"data\\chessboard.jpg\"\n",
    "markersX = 5           #X轴上标记的数量\n",
    "markersY = 3            #EY轴上标记的数量\n",
    "markerLength = 100#标记的长度，单位是像素\n",
    "markerSeparation = 0#每个标记之间的间隔，单位像素\n",
    "margins = markerSeparation #标记与边界之间的间隔\n",
    "borderBits = 1 #标记的边界所占的bit位数\n",
    "width = markersX * (markerLength + markerSeparation) - markerSeparation + 2 * margins\n",
    "height =markersY * (markerLength + markerSeparation) - markerSeparation + 2 * margins\n",
    "print(width,height)\n",
    "def show(img,title=\"haha\"):\n",
    "    plt.imshow(cv2.cvtColor(img, cv2.COLOR_BGR2RGB))\n",
    "    plt.title(title)\n",
    "    plt.show()\n"
   ]
  },
  {
   "cell_type": "code",
   "execution_count": 10,
   "metadata": {},
   "outputs": [
    {
     "data": {
      "image/png": "[encoded data removed]",
      "text/plain": [
       "<Figure size 640x480 with 1 Axes>"
      ]
     },
     "metadata": {},
     "output_type": "display_data"
    }
   ],
   "source": [
    "chessboard = np.zeros((height, width), dtype=np.uint8)\n",
    "for i in range(0, height, markerLength + markerSeparation):\n",
    "    for j in range(0, width, markerLength + markerSeparation):\n",
    "        if (i // (markerLength + markerSeparation)) % 2 == (j // (markerLength + markerSeparation)) % 2:\n",
    "            chessboard[i:i + markerLength, j:j + markerLength] = 255\n",
    "cv2.imwrite(chesspath, chessboard)\n",
    "show(chessboard,chesspath)"
   ]
  },
  {
   "cell_type": "code",
   "execution_count": 11,
   "metadata": {},
   "outputs": [],
   "source": [
    "criteria = (cv2.TERM_CRITERIA_EPS + cv2.TERM_CRITERIA_MAX_ITER, 30, 0.001)\n",
    "# print(cv2.TERM_CRITERIA_EPS,'',cv2.TERM_CRITERIA_MAX_ITER)\n",
    "img = cv2.imread(chesspath)\n",
    "# Color-segmentation to get the binary mask\n",
    "lower_blue = np.array([0, 0, 0], dtype=np.uint8) \n",
    "upper_blue = np.array([255, 255, 255], dtype=np.uint8)\n",
    "hsv = cv2.cvtColor(img, cv2.COLOR_BGR2HSV)\n",
    "mask = cv2.inRange(hsv, lower_blue, upper_blue)\n",
    "\n"
   ]
  },
  {
   "cell_type": "code",
   "execution_count": 12,
   "metadata": {},
   "outputs": [
    {
     "data": {
      "image/png": "[encoded data removed]",
      "text/plain": [
       "<Figure size 640x480 with 1 Axes>"
      ]
     },
     "metadata": {},
     "output_type": "display_data"
    }
   ],
   "source": [
    "res = cv2.bitwise_and(img, img, mask=mask)\n",
    "show(res, \"Binary Mask\")\n",
    "\n"
   ]
  },
  {
   "cell_type": "code",
   "execution_count": 17,
   "metadata": {},
   "outputs": [
    {
     "name": "stdout",
     "output_type": "stream",
     "text": [
      "False\n"
     ]
    },
    {
     "ename": "TypeError",
     "evalue": "'NoneType' object is not iterable",
     "output_type": "error",
     "traceback": [
      "\u001b[1;31m---------------------------------------------------------------------------\u001b[0m",
      "\u001b[1;31mTypeError\u001b[0m                                 Traceback (most recent call last)",
      "Cell \u001b[1;32mIn[17], line 18\u001b[0m\n\u001b[0;32m     15\u001b[0m ret, corners \u001b[38;5;241m=\u001b[39m cv2\u001b[38;5;241m.\u001b[39mfindChessboardCorners(blur, (markersX,markersY), flags\u001b[38;5;241m=\u001b[39mcv2\u001b[38;5;241m.\u001b[39mCALIB_CB_ADAPTIVE_THRESH\u001b[38;5;241m+\u001b[39mcv2\u001b[38;5;241m.\u001b[39mCALIB_CB_NORMALIZE_IMAGE)\n\u001b[0;32m     17\u001b[0m \u001b[38;5;28mprint\u001b[39m(ret)\n\u001b[1;32m---> 18\u001b[0m \u001b[38;5;28;43;01mfor\u001b[39;49;00m\u001b[43m \u001b[49m\u001b[43mcorner\u001b[49m\u001b[43m \u001b[49m\u001b[38;5;129;43;01min\u001b[39;49;00m\u001b[43m \u001b[49m\u001b[43mcorners\u001b[49m\u001b[43m:\u001b[49m\n\u001b[0;32m     19\u001b[0m \u001b[43m    \u001b[49m\u001b[43mcv2\u001b[49m\u001b[38;5;241;43m.\u001b[39;49m\u001b[43mcircle\u001b[49m\u001b[43m(\u001b[49m\u001b[43mimg\u001b[49m\u001b[43m,\u001b[49m\u001b[43m \u001b[49m\u001b[43m(\u001b[49m\u001b[43mcorner\u001b[49m\u001b[43m[\u001b[49m\u001b[38;5;241;43m0\u001b[39;49m\u001b[43m]\u001b[49m\u001b[43m[\u001b[49m\u001b[38;5;241;43m0\u001b[39;49m\u001b[43m]\u001b[49m\u001b[43m,\u001b[49m\u001b[43m \u001b[49m\u001b[43mcorner\u001b[49m\u001b[43m[\u001b[49m\u001b[38;5;241;43m0\u001b[39;49m\u001b[43m]\u001b[49m\u001b[43m[\u001b[49m\u001b[38;5;241;43m1\u001b[39;49m\u001b[43m]\u001b[49m\u001b[43m)\u001b[49m\u001b[43m,\u001b[49m\u001b[43m \u001b[49m\u001b[38;5;241;43m5\u001b[39;49m\u001b[43m,\u001b[49m\u001b[43m \u001b[49m\u001b[43m(\u001b[49m\u001b[38;5;241;43m255\u001b[39;49m\u001b[43m,\u001b[49m\u001b[43m \u001b[49m\u001b[38;5;241;43m0\u001b[39;49m\u001b[43m,\u001b[49m\u001b[43m \u001b[49m\u001b[38;5;241;43m0\u001b[39;49m\u001b[43m)\u001b[49m\u001b[43m,\u001b[49m\u001b[43m \u001b[49m\u001b[38;5;241;43m-\u001b[39;49m\u001b[38;5;241;43m1\u001b[39;49m\u001b[43m)\u001b[49m\n",
      "\u001b[1;31mTypeError\u001b[0m: 'NoneType' object is not iterable"
     ]
    }
   ],
   "source": [
    "gray=cv2.cvtColor(img, cv2.COLOR_BGR2GRAY)\n",
    "\n",
    "\n",
    "\n",
    "# 1. 调整亮度和对比度以获得更清晰的棋盘格\n",
    "gray = cv2.convertScaleAbs(gray, alpha=1.5, beta=0)\n",
    "# 2. 使用自适应阈值化来获得更清晰的棋盘格\n",
    "thresh = cv2.adaptiveThreshold(gray,255,cv2.ADAPTIVE_THRESH_MEAN_C,\\\n",
    "            cv2.THRESH_BINARY,11,2)\n",
    "# 3. 高斯模糊来减少噪声\n",
    "blur = cv2.GaussianBlur(gray,(5,5),0) \n",
    "# 4. 调整findChessboardCorners的参数,如改变角点数量,提高质量级别等\n",
    "\n"
   ]
  },
  {
   "cell_type": "code",
   "execution_count": 1,
   "metadata": {},
   "outputs": [
    {
     "ename": "NameError",
     "evalue": "name 'gray' is not defined",
     "output_type": "error",
     "traceback": [
      "\u001b[1;31m---------------------------------------------------------------------------\u001b[0m",
      "\u001b[1;31mNameError\u001b[0m                                 Traceback (most recent call last)",
      "Cell \u001b[1;32mIn[1], line 11\u001b[0m\n\u001b[0;32m      8\u001b[0m pattern_points \u001b[38;5;241m*\u001b[39m\u001b[38;5;241m=\u001b[39m square_size\n\u001b[0;32m     10\u001b[0m \u001b[38;5;66;03m# 查找棋盘格角点\u001b[39;00m\n\u001b[1;32m---> 11\u001b[0m ret, corners \u001b[38;5;241m=\u001b[39m cv2\u001b[38;5;241m.\u001b[39mfindChessboardCorners(\u001b[43mgray\u001b[49m, pattern_size, \u001b[38;5;28;01mNone\u001b[39;00m)\n\u001b[0;32m     12\u001b[0m   \u001b[38;5;66;03m#cv2.CALIB_CB_ADAPTIVE_THRESH + cv2.CALIB_CB_FAST_CHECK + cv2.CALIB_CB_NORMALIZE_IMAGE)\u001b[39;00m\n\u001b[0;32m     13\u001b[0m \n\u001b[0;32m     14\u001b[0m \u001b[38;5;66;03m# 如果找到足够的角点,进行精确化\u001b[39;00m\n\u001b[0;32m     15\u001b[0m \u001b[38;5;28;01mif\u001b[39;00m ret \u001b[38;5;241m==\u001b[39m \u001b[38;5;28;01mTrue\u001b[39;00m:\n",
      "\u001b[1;31mNameError\u001b[0m: name 'gray' is not defined"
     ]
    }
   ],
   "source": [
    "import cv2\n",
    "import numpy as np\n",
    "import chess1\n",
    "square_size=10\n",
    "# 生成棋盘格\n",
    "pattern_size = (9, 6)\n",
    "pattern_points = np.zeros((np.prod(pattern_size), 3), np.float32)\n",
    "pattern_points[:, :2] = np.indices(pattern_size).T.reshape(-1, 2)\n",
    "pattern_points *= square_size\n",
    "gray=cv2.cvtColor(img,cv2.COLOR_BGR2GRAY)\n",
    "# 查找棋盘格角点\n",
    "ret, corners = cv2.findChessboardCorners(gray, pattern_size, None)\n",
    "  #cv2.CALIB_CB_ADAPTIVE_THRESH + cv2.CALIB_CB_FAST_CHECK + cv2.CALIB_CB_NORMALIZE_IMAGE)\n",
    "\n",
    "# 如果找到足够的角点,进行精确化\n",
    "if ret == True:\n",
    "  criteria = (cv2.TERM_CRITERIA_EPS + cv2.TERM_CRITERIA_MAX_ITER, 30, 0.001)\n",
    "  cv2.cornerSubPix(gray, corners, (5, 5), (-1, -1), criteria)\n",
    "\n",
    "# 绘制并显示检测到的角点  \n",
    "cv2.drawChessboardCorners(img, pattern_size, corners, ret)\n",
    "show(img)\n",
    "\n"
   ]
  },
  {
   "cell_type": "code",
   "execution_count": null,
   "metadata": {},
   "outputs": [],
   "source": [
    "# 如果找到足够点对，将其存储起来\n",
    "corners3 = np.array([])\n",
    "\n",
    "if ret == True:\n",
    "    #精确找到角点坐标\n",
    "    corners2 = cv2.cornerSubPix(gray,corners,(11,11),(-1,-1),criteria)\n",
    "    corners3 = np.array([corners[0],corners[10],corners[77],corners[87]])\n",
    "    # 将角点在图像上显示\n",
    "    cv2.drawChessboardCorners(img, (2,2), corners3, ret)\n",
    "    print(corners3)\n",
    "    # cv2.imshow('findCorners',img)\n",
    "    # cv2.waitKey()\n",
    "# cv2.destroyAllWindows()\n",
    "\n",
    "# print('四个点的坐标是:\\n',corners3)\n",
    "point = np.reshape(corners3,(4,2))\n",
    "print(point)\n",
    "\n",
    "dst = np.array([[200, 200],\n",
    "                [400, 200],\n",
    "                [200, 400],\n",
    "                [400, 400]], dtype = \"float32\")\n",
    "M = cv2.getPerspectiveTransform(point, dst)\n",
    "print('变换矩阵是', M)\n",
    "warped = cv2.warpPerspective(img, M, (1000, 1000))\n",
    "\n",
    "img = cv2.resize(img,(400,400))\n",
    "cv2.imshow('img',img)\n",
    "cv2.imshow('fin',warped)\n"
   ]
  },
  {
   "cell_type": "code",
   "execution_count": null,
   "metadata": {},
   "outputs": [],
   "source": [
    "# 检测gray中的棋盘格并输出所有角点的图片\n",
    "ret, corners = cv2.findChessboardCorners(gray, (markersX, markersY))\n",
    "\n",
    "if ret == True:\n",
    "    corners2 = cv2.cornerSubPix(gray, corners, (11, 11), (-1, -1), criteria)\n",
    "    corners3 = np.array([corners[0], corners[10], corners[77], corners[87]])\n",
    "    cv2.drawChessboardCorners(img, (2, 2), corners3, ret)\n",
    "    cv2.imshow('Chessboard Corners', img)\n",
    "    cv2.waitKey(0)\n"
   ]
  },
  {
   "cell_type": "code",
   "execution_count": null,
   "metadata": {},
   "outputs": [],
   "source": [
    "def find_homography(image1, image2):\n",
    "  \"\"\"\n",
    "  使用 SIFT 特征匹配和 RANSAC 算法计算图像之间的单应性矩阵\n",
    "\n",
    "  Args:\n",
    "    image1: 第一幅图像\n",
    "    image2: 第二幅图像\n",
    "\n",
    "  Returns:\n",
    "    单应性矩阵\n",
    "  \"\"\"\n",
    "\n",
    "  # 初始化 SIFT 特征提取器和匹配器\n",
    "  sift = cv2.SIFT_create()\n",
    "  bf = cv2.BFMatcher()\n",
    "\n",
    "  # 提取特征点和描述符\n",
    "  kp1, des1 = sift.detectAndCompute(image1, None)\n",
    "  kp2, des2 = sift.detectAndCompute(image2, None)\n",
    "\n",
    "  # 进行特征点匹配\n",
    "  matches = bf.knnMatch(des1, des2, k=2)\n",
    "\n",
    "  # 使用 RANSAC 算法筛选出好的匹配点\n",
    "  good_matches = []\n",
    "  for m, n in matches:\n",
    "    if m.distance < 0.75 * n.distance:\n",
    "      good_matches.append(m)\n",
    "\n",
    "  # 计算单应性矩阵\n",
    "  H, _ = cv2.findHomography(np.array([kp1[m.queryIdx].pt for m in good_matches]),\n",
    "                          np.array([kp2[m.trainIdx].pt for m in good_matches]),\n",
    "                          cv2.RANSAC, 5.0)\n",
    "\n",
    "  return H\n",
    "\n",
    "# 读取图像\n",
    "image1 = cv2.imread(\"data/chessboard.jpg\")\n",
    "image2 = cv2.imread(\"..\\Aruco\\gc_0051.png\")\n",
    "\n",
    "# 计算单应性矩阵\n",
    "H = find_homography(image1, image2)\n",
    "\n",
    "# 进行图像配准\n",
    "warped = cv2.warpPerspective(image1, H, (image2.shape[1], image2.shape[0]))\n",
    "\n",
    "# 显示结果\n",
    "plt.subplot(121)\n",
    "plt.imshow(image1)\n",
    "plt.title(\"Image 1\")\n",
    "\n",
    "plt.subplot(122)\n",
    "plt.imshow(warped)\n",
    "plt.title(\"Warped Image\")\n",
    "\n",
    "plt.show()\n"
   ]
  }
 ],
 "metadata": {
  "kernelspec": {
   "display_name": "Python 3",
   "language": "python",
   "name": "python3"
  },
  "language_info": {
   "codemirror_mode": {
    "name": "ipython",
    "version": 3
   },
   "file_extension": ".py",
   "mimetype": "text/x-python",
   "name": "python",
   "nbconvert_exporter": "python",
   "pygments_lexer": "ipython3",
   "version": "3.12.2"
  }
 },
 "nbformat": 4,
 "nbformat_minor": 2
}
